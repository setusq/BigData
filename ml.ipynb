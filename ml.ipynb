{
 "cells": [
 {
   "cell_type": "markdown",
   "metadata": {},
   "source": [
    "<h4><b>Обучение модели с помощью логистической регрессии и случайного леса:</b></h4>"
   ]
  },
  {
   "cell_type": "code",
   "execution_count": 13,
   "metadata": {},
   "outputs": [
    {
     "name": "stdout",
     "output_type": "stream",
     "text": [
      "+---+-----------+--------+------------------+---------+------------+----------------+------+----+------------+--------------------+---------------------+--------------------+\n",
      "|_c0|income_type|children|     days_employed|dob_years|education_id|family_status_id|gender|debt|total_income|             purpose|total_income_category|    purpose_category|\n",
      "+---+-----------+--------+------------------+---------+------------+----------------+------+----+------------+--------------------+---------------------+--------------------+\n",
      "|  0|  компаньон|       0| 191.1467457844417|       64|           0|               1|     F|   0|      186408|             свадьба|                    C|  проведение свадьбы|\n",
      "|  1|  компаньон|       0| 563.9370284307207|       33|           1|               0|     M|   0|      161976|на покупку своего...|                    C|операции с автомо...|\n",
      "|  2|  компаньон|       2|1653.2725398991834|       25|           0|               0|     F|   0|      102955|          автомобиль|                    C|операции с автомо...|\n",
      "|  3|  сотрудник|       1| 2194.220566878695|       33|           1|               0|     F|   0|      142594|       покупка жилья|                    C|операции с недвиж...|\n",
      "|  4|  сотрудник|       0|253.80635463648645|       23|           1|               1|     M|   0|       64992|на проведение сва...|                    C|  проведение свадьбы|\n",
      "|  5|  пенсионер|       0|  394372.118413896|       52|           0|               4|     F|   0|      163091|сделка с подержан...|                    C|операции с автомо...|\n",
      "|  6|  сотрудник|       1|  677.605977287625|       54|           1|               1|     M|   0|      114522|               жилье|                    C|операции с недвиж...|\n",
      "|  7|  сотрудник|       1| 633.3155423814244|       55|           1|               0|     M|   1|      135718|на покупку автомо...|                    C|операции с автомо...|\n",
      "|  8|  сотрудник|       1|4209.1957891718075|       49|           1|               1|     F|   0|      107243|на проведение сва...|                    C|  проведение свадьбы|\n",
      "|  9|  компаньон|       1| 2399.070647090589|       33|           1|               0|     M|   0|      240622|строительство соб...|                    B|операции с недвиж...|\n",
      "| 10|  сотрудник|       1| 2131.771406367805|       34|           0|               4|     F|   0|      229419|  высшее образование|                    B|получение образов...|\n",
      "| 11|  компаньон|       2| 906.5194461676692|        0|           0|               0|     F|   0|      215477|   операции с жильем|                    B|операции с недвиж...|\n",
      "| 12|  компаньон|       0| 3214.138897463785|       54|           1|               1|     F|   0|      115390|             свадьба|                    C|  проведение свадьбы|\n",
      "| 13|  компаньон|       1| 1862.917253993262|       27|           0|               3|     F|   0|      573269|покупка недвижимости|                    B|операции с недвиж...|\n",
      "| 14|  сотрудник|       0| 2194.220566878695|       33|           1|               0|     F|   1|      142594|сделка с подержан...|                    C|операции с автомо...|\n",
      "| 15|  сотрудник|       0| 659.7022899427086|       21|           1|               4|     F|   0|      109931|заняться высшим о...|                    C|получение образов...|\n",
      "| 16|госслужащий|       0|242.51186097165126|       58|           1|               1|     M|   0|      160216|на проведение сва...|                    C|  проведение свадьбы|\n",
      "| 17|  сотрудник|       0|438.82814308291535|       30|           1|               0|     F|   0|       73160|     свой автомобиль|                    C|операции с автомо...|\n",
      "| 18|  сотрудник|       2| 986.2948340803804|       28|           0|               0|     F|   0|       48539|получение дополни...|                    D|получение образов...|\n",
      "| 19|  пенсионер|       0| 331096.4408332463|       52|           1|               0|     F|   0|      124401|   операции с жильем|                    C|операции с недвиж...|\n",
      "+---+-----------+--------+------------------+---------+------------+----------------+------+----+------------+--------------------+---------------------+--------------------+\n",
      "only showing top 20 rows\n",
      "\n"
     ]
    }
   ],
   "source": [
    "from pyspark.sql import SparkSession\n",
    "from pyspark.sql.functions import *\n",
    "from pyspark.sql.types import StringType\n",
    "from pyspark.sql.types import IntegerType\n",
    "from pyspark.ml.feature import StringIndexer, VectorAssembler\n",
    "from pyspark.ml.evaluation import MulticlassClassificationEvaluator\n",
    "\n",
    "spark = SparkSession.builder \\\n",
    "    .appName(\"data analitic\") \\\n",
    "    .getOrCreate()\n",
    "\n",
    "df = spark.read \\\n",
    "    .option(\"header\", \"true\") \\\n",
    "    .csv(\"DataFrame.csv\")\n",
    "df.show()\n"
   ]
  },
  {
   "cell_type": "markdown",
   "metadata": {},
   "source": [
    "<h4><b>Предворительная обработка данных:</b></h4>"
   ]
  },
  {
   "cell_type": "markdown",
   "metadata": {},
   "source": [
    "Преобразовывание данных ДатаФрейма в целочисленный тип:"
   ]
  },
  {
   "cell_type": "code",
   "execution_count": 14,
   "metadata": {},
   "outputs": [
    {
     "name": "stdout",
     "output_type": "stream",
     "text": [
      "root\n",
      " |-- _c0: string (nullable = true)\n",
      " |-- income_type: string (nullable = true)\n",
      " |-- children: integer (nullable = true)\n",
      " |-- days_employed: integer (nullable = true)\n",
      " |-- dob_years: integer (nullable = true)\n",
      " |-- education_id: integer (nullable = true)\n",
      " |-- family_status_id: integer (nullable = true)\n",
      " |-- gender: string (nullable = true)\n",
      " |-- debt: integer (nullable = true)\n",
      " |-- total_income: integer (nullable = true)\n",
      " |-- purpose: string (nullable = true)\n",
      " |-- total_income_category: string (nullable = true)\n",
      " |-- purpose_category: string (nullable = true)\n",
      "\n"
     ]
    }
   ],
   "source": [
    "df = df.withColumn(\"children\", df[\"children\"].cast(IntegerType()))\n",
    "df = df.withColumn(\"dob_years\", df[\"dob_years\"].cast(IntegerType()))\n",
    "df = df.withColumn(\"education_id\", df[\"education_id\"].cast(IntegerType()))\n",
    "df = df.withColumn(\"family_status_id\", df[\"family_status_id\"].cast(IntegerType()))\n",
    "df = df.withColumn(\"debt\", df[\"debt\"].cast(IntegerType()))\n",
    "df = df.withColumn(\"total_income\", df[\"total_income\"].cast(IntegerType()))\n",
    "df = df.withColumn(\"days_employed\", df[\"days_employed\"].cast(IntegerType()))\n",
    "df.printSchema()"
   ]
  },
  {
   "cell_type": "markdown",
   "metadata": {},
   "source": [
    "Преобразование категориальных столбцов в числовые с помощью `StringIndexer` и Создание объекта `VectorAssembler` для объединения признаков в один столбец "
   ]
  },
  {
   "cell_type": "code",
   "execution_count": 30,
   "metadata": {},
   "outputs": [
    {
     "name": "stdout",
     "output_type": "stream",
     "text": [
      "+---+-----------+--------+-------------+---------+------------+----------------+------+----+------------+--------------------+---------------------+--------------------+-----------------+------------+----------------------+--------------------+\n",
      "|_c0|income_type|children|days_employed|dob_years|education_id|family_status_id|gender|debt|total_income|             purpose|total_income_category|    purpose_category|income_type_index|gender_index|purpose_category_index|            features|\n",
      "+---+-----------+--------+-------------+---------+------------+----------------+------+----+------------+--------------------+---------------------+--------------------+-----------------+------------+----------------------+--------------------+\n",
      "|  0|  компаньон|       0|          191|       64|           0|               1|     F|   0|      186408|             свадьба|                    C|  проведение свадьбы|              1.0|         0.0|                   3.0|[1.0,0.0,191.0,64...|\n",
      "|  1|  компаньон|       0|          563|       33|           1|               0|     M|   0|      161976|на покупку своего...|                    C|операции с автомо...|              1.0|         1.0|                   1.0|[1.0,0.0,563.0,33...|\n",
      "|  2|  компаньон|       2|         1653|       25|           0|               0|     F|   0|      102955|          автомобиль|                    C|операции с автомо...|              1.0|         0.0|                   1.0|[1.0,2.0,1653.0,2...|\n",
      "|  3|  сотрудник|       1|         2194|       33|           1|               0|     F|   0|      142594|       покупка жилья|                    C|операции с недвиж...|              0.0|         0.0|                   0.0|(10,[1,2,3,4,8],[...|\n",
      "|  4|  сотрудник|       0|          253|       23|           1|               1|     M|   0|       64992|на проведение сва...|                    C|  проведение свадьбы|              0.0|         1.0|                   3.0|[0.0,0.0,253.0,23...|\n",
      "|  5|  пенсионер|       0|       394372|       52|           0|               4|     F|   0|      163091|сделка с подержан...|                    C|операции с автомо...|              2.0|         0.0|                   1.0|[2.0,0.0,394372.0...|\n",
      "|  6|  сотрудник|       1|          677|       54|           1|               1|     M|   0|      114522|               жилье|                    C|операции с недвиж...|              0.0|         1.0|                   0.0|[0.0,1.0,677.0,54...|\n",
      "|  7|  сотрудник|       1|          633|       55|           1|               0|     M|   1|      135718|на покупку автомо...|                    C|операции с автомо...|              0.0|         1.0|                   1.0|[0.0,1.0,633.0,55...|\n",
      "|  8|  сотрудник|       1|         4209|       49|           1|               1|     F|   0|      107243|на проведение сва...|                    C|  проведение свадьбы|              0.0|         0.0|                   3.0|[0.0,1.0,4209.0,4...|\n",
      "|  9|  компаньон|       1|         2399|       33|           1|               0|     M|   0|      240622|строительство соб...|                    B|операции с недвиж...|              1.0|         1.0|                   0.0|[1.0,1.0,2399.0,3...|\n",
      "| 10|  сотрудник|       1|         2131|       34|           0|               4|     F|   0|      229419|  высшее образование|                    B|получение образов...|              0.0|         0.0|                   2.0|[0.0,1.0,2131.0,3...|\n",
      "| 11|  компаньон|       2|          906|        0|           0|               0|     F|   0|      215477|   операции с жильем|                    B|операции с недвиж...|              1.0|         0.0|                   0.0|(10,[0,1,2,8],[1....|\n",
      "| 12|  компаньон|       0|         3214|       54|           1|               1|     F|   0|      115390|             свадьба|                    C|  проведение свадьбы|              1.0|         0.0|                   3.0|[1.0,0.0,3214.0,5...|\n",
      "| 13|  компаньон|       1|         1862|       27|           0|               3|     F|   0|      573269|покупка недвижимости|                    B|операции с недвиж...|              1.0|         0.0|                   0.0|[1.0,1.0,1862.0,2...|\n",
      "| 14|  сотрудник|       0|         2194|       33|           1|               0|     F|   1|      142594|сделка с подержан...|                    C|операции с автомо...|              0.0|         0.0|                   1.0|[0.0,0.0,2194.0,3...|\n",
      "| 15|  сотрудник|       0|          659|       21|           1|               4|     F|   0|      109931|заняться высшим о...|                    C|получение образов...|              0.0|         0.0|                   2.0|[0.0,0.0,659.0,21...|\n",
      "| 16|госслужащий|       0|          242|       58|           1|               1|     M|   0|      160216|на проведение сва...|                    C|  проведение свадьбы|              3.0|         1.0|                   3.0|[3.0,0.0,242.0,58...|\n",
      "| 17|  сотрудник|       0|          438|       30|           1|               0|     F|   0|       73160|     свой автомобиль|                    C|операции с автомо...|              0.0|         0.0|                   1.0|(10,[2,3,4,8,9],[...|\n",
      "| 18|  сотрудник|       2|          986|       28|           0|               0|     F|   0|       48539|получение дополни...|                    D|получение образов...|              0.0|         0.0|                   2.0|(10,[1,2,3,8,9],[...|\n",
      "| 19|  пенсионер|       0|       331096|       52|           1|               0|     F|   0|      124401|   операции с жильем|                    C|операции с недвиж...|              2.0|         0.0|                   0.0|(10,[0,2,3,4,8],[...|\n",
      "+---+-----------+--------+-------------+---------+------------+----------------+------+----+------------+--------------------+---------------------+--------------------+-----------------+------------+----------------------+--------------------+\n",
      "only showing top 20 rows\n",
      "\n"
     ]
    }
   ],
   "source": [
    "# Преобразовываем категориальные столбцы в числовые с помощью StringIndexer\n",
    "indexers = [StringIndexer(inputCol=column, outputCol=column+\"_index\").fit(df) for column in ['income_type', 'gender', 'purpose_category']]\n",
    "\n",
    "# Создаем объект VectorAssembler для объединения признаков в один столбец 'features'\n",
    "assembler = VectorAssembler(\n",
    "    inputCols=['income_type_index', 'children', 'days_employed', 'dob_years', 'education_id', 'family_status_id', 'gender_index', 'debt', 'total_income', 'purpose_category_index'],\n",
    "    outputCol=\"features\")\n",
    "\n",
    "# Применяем StringIndexer и VectorAssembler к датафрейму\n",
    "indexed_df = df\n",
    "for i in indexers:\n",
    "    indexed_df = i.transform(indexed_df)\n",
    "indexed_df = assembler.transform(indexed_df)\n",
    "\n",
    "indexed_df.show()"
   ]
  },
  {
   "cell_type": "markdown",
   "metadata": {},
   "source": [
    "Разделение на обучающий и тестовый наборы в пропорции 70% на 60% соответсвенно"
   ]
  },
  {
   "cell_type": "code",
   "execution_count": null,
   "metadata": {},
   "outputs": [],
   "source": [
    "(training_data, test_data) = indexed_df.randomSplit([0.7, 0.3], seed=12345)"
   ]
  },
  {
   "cell_type": "markdown",
   "metadata": {},
   "source": [
    "<h4><b>Обучение модели с помощью логистической регрессии</b></h4>"
   ]
  },
  {
   "cell_type": "code",
   "execution_count": 28,
   "metadata": {},
   "outputs": [
    {
     "name": "stdout",
     "output_type": "stream",
     "text": [
      "Accuracy: 0.9201964395334561\n"
     ]
    }
   ],
   "source": [
    "from pyspark.ml.classification import LogisticRegression\n",
    "\n",
    "# Создаем модель логистической регрессии\n",
    "lr = LogisticRegression(labelCol=\"debt\", featuresCol=\"features\", maxIter=10, regParam=0.3, elasticNetParam=0.8)\n",
    "\n",
    "# Обучаем модель на обучающем наборе\n",
    "lr_model = lr.fit(training_data)\n",
    "\n",
    "# Применяем модель к тестовому набору\n",
    "predictions = lr_model.transform(test_data)\n",
    "\n",
    "# Оцениваем качество модели\n",
    "evaluator = MulticlassClassificationEvaluator(labelCol=\"debt\", predictionCol=\"prediction\", metricName=\"accuracy\")\n",
    "accuracy = evaluator.evaluate(predictions)\n",
    "print(\"Accuracy:\", accuracy)\n",
    "\n"
   ]
  },
  {
   "cell_type": "markdown",
   "metadata": {},
   "source": [
    "<h4><b>Обучение модели с помощью случайного леса</b></h4>"
   ]
  },
  {
   "cell_type": "code",
   "execution_count": 29,
   "metadata": {},
   "outputs": [
    {
     "name": "stdout",
     "output_type": "stream",
     "text": [
      "Accuracy: 1.0\n"
     ]
    }
   ],
   "source": [
    "from pyspark.ml.classification import RandomForestClassifier\n",
    "\n",
    "# Создаем модель случайного леса\n",
    "rf = RandomForestClassifier(labelCol=\"debt\", featuresCol=\"features\", numTrees=100)\n",
    "\n",
    "# Обучаем модель на обучающем наборе\n",
    "rf_model = rf.fit(training_data)\n",
    "\n",
    "# Применяем модель к тестовому набору\n",
    "predictions = rf_model.transform(test_data)\n",
    "\n",
    "# Оцениваем качество модели\n",
    "evaluator = MulticlassClassificationEvaluator(labelCol=\"debt\", predictionCol=\"prediction\", metricName=\"accuracy\")\n",
    "accuracy = evaluator.evaluate(predictions)\n",
    "print(\"Accuracy:\", accuracy)\n"
   ]
  }
 ],
 "metadata": {
  "kernelspec": {
   "display_name": "Python 3",
   "language": "python",
   "name": "python3"
  },
  "language_info": {
   "codemirror_mode": {
    "name": "ipython",
    "version": 3
   },
   "file_extension": ".py",
   "mimetype": "text/x-python",
   "name": "python",
   "nbconvert_exporter": "python",
   "pygments_lexer": "ipython3",
   "version": "3.10.11"
  }
 },
 "nbformat": 4,
 "nbformat_minor": 2
}
